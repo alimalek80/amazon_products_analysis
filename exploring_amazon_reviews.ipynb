{
 "cells": [
  {
   "cell_type": "code",
   "execution_count": 1,
   "id": "99f47178-c8e6-42f1-9886-c3df75086905",
   "metadata": {},
   "outputs": [
    {
     "data": {
      "text/html": [
       "<div>\n",
       "<style scoped>\n",
       "    .dataframe tbody tr th:only-of-type {\n",
       "        vertical-align: middle;\n",
       "    }\n",
       "\n",
       "    .dataframe tbody tr th {\n",
       "        vertical-align: top;\n",
       "    }\n",
       "\n",
       "    .dataframe thead th {\n",
       "        text-align: right;\n",
       "    }\n",
       "</style>\n",
       "<table border=\"1\" class=\"dataframe\">\n",
       "  <thead>\n",
       "    <tr style=\"text-align: right;\">\n",
       "      <th></th>\n",
       "      <th>product_id</th>\n",
       "      <th>product_name</th>\n",
       "      <th>category</th>\n",
       "      <th>discounted_price</th>\n",
       "      <th>actual_price</th>\n",
       "      <th>discount_percentage</th>\n",
       "      <th>rating</th>\n",
       "      <th>rating_count</th>\n",
       "      <th>about_product</th>\n",
       "      <th>user_id</th>\n",
       "      <th>user_name</th>\n",
       "      <th>review_id</th>\n",
       "      <th>review_title</th>\n",
       "      <th>review_content</th>\n",
       "      <th>img_link</th>\n",
       "      <th>product_link</th>\n",
       "    </tr>\n",
       "  </thead>\n",
       "  <tbody>\n",
       "    <tr>\n",
       "      <th>44</th>\n",
       "      <td>B09NJN8L25</td>\n",
       "      <td>FLiX (Beetel USB to Micro USB PVC Data Sync &amp; ...</td>\n",
       "      <td>Computers&amp;Accessories|Accessories&amp;Peripherals|...</td>\n",
       "      <td>₹59</td>\n",
       "      <td>₹199</td>\n",
       "      <td>70%</td>\n",
       "      <td>4.0</td>\n",
       "      <td>9,378</td>\n",
       "      <td>Micro USB charging cable for android phones an...</td>\n",
       "      <td>AHIKJUDTVJ4T6DV6IUGFYZ5LXMPA,AE55KTFVNXYFD5FPY...</td>\n",
       "      <td>$@|\\|TO$|-|,Sethu madhav,Akash Thakur,Burger P...</td>\n",
       "      <td>R3F4T5TRYPTMIG,R3DQIEC603E7AY,R1O4Z15FD40PV5,R...</td>\n",
       "      <td>Worked on iPhone 7 and didn’t work on XR,Good ...</td>\n",
       "      <td>Worked on iPhone 7 and didn’t work on iPhone X...</td>\n",
       "      <td>https://m.media-amazon.com/images/I/31v7NnnAIt...</td>\n",
       "      <td>https://www.amazon.in/FLiX-Charging-480Mbps-De...</td>\n",
       "    </tr>\n",
       "    <tr>\n",
       "      <th>315</th>\n",
       "      <td>B09YHLPQYT</td>\n",
       "      <td>Shopoflux Silicone Remote Cover for Mi Smart T...</td>\n",
       "      <td>Electronics|HomeTheater,TV&amp;Video|Accessories|R...</td>\n",
       "      <td>₹246</td>\n",
       "      <td>₹600</td>\n",
       "      <td>59%</td>\n",
       "      <td>4.2</td>\n",
       "      <td>143</td>\n",
       "      <td>The cover is resistant to dust particles. This...</td>\n",
       "      <td>AHNCUNHIZXTMX6V4WVDHJVC6YOHQ,AFQC7LKYCPLAO2WCV...</td>\n",
       "      <td>Hemal Jani,NITIN BHATTI,madhu,Arnab Kar,Daniel...</td>\n",
       "      <td>R3JYRL1ACWZKKY,R32Q6QP914FG3A,R3IEH4PJW488UX,R...</td>\n",
       "      <td>Cover is perfect size wise and it's exactly sa...</td>\n",
       "      <td>Cover is perfect size wise and it's exactly sa...</td>\n",
       "      <td>https://m.media-amazon.com/images/W/WEBP_40237...</td>\n",
       "      <td>https://www.amazon.in/Shopoflux-Silicone-Remot...</td>\n",
       "    </tr>\n",
       "    <tr>\n",
       "      <th>191</th>\n",
       "      <td>B07DC4RZPY</td>\n",
       "      <td>Amazon Basics USB A to Lightning MFi Certified...</td>\n",
       "      <td>Computers&amp;Accessories|Accessories&amp;Peripherals|...</td>\n",
       "      <td>₹709</td>\n",
       "      <td>₹1,999</td>\n",
       "      <td>65%</td>\n",
       "      <td>4.1</td>\n",
       "      <td>1,78,817</td>\n",
       "      <td>MFi-certified charging cable for securely char...</td>\n",
       "      <td>AHDZE7UM6PQPAOJPJJ57QUHGGTAA,AGMGMQ6LB27Y52XFB...</td>\n",
       "      <td>Pete25,Bhanu,Naveen Kr Singh,kavan,BG,Aditya B...</td>\n",
       "      <td>R35VPRJY5B5Z2G,R2YMIH3T7VWAY1,R3UEQM867K8BUH,R...</td>\n",
       "      <td>Data transfer not the best,Good cable for ipho...</td>\n",
       "      <td>Does not always accurately read on PC,Working ...</td>\n",
       "      <td>https://m.media-amazon.com/images/W/WEBP_40237...</td>\n",
       "      <td>https://www.amazon.in/AmazonBasics-Certified-L...</td>\n",
       "    </tr>\n",
       "  </tbody>\n",
       "</table>\n",
       "</div>"
      ],
      "text/plain": [
       "     product_id                                       product_name  \\\n",
       "44   B09NJN8L25  FLiX (Beetel USB to Micro USB PVC Data Sync & ...   \n",
       "315  B09YHLPQYT  Shopoflux Silicone Remote Cover for Mi Smart T...   \n",
       "191  B07DC4RZPY  Amazon Basics USB A to Lightning MFi Certified...   \n",
       "\n",
       "                                              category discounted_price  \\\n",
       "44   Computers&Accessories|Accessories&Peripherals|...              ₹59   \n",
       "315  Electronics|HomeTheater,TV&Video|Accessories|R...             ₹246   \n",
       "191  Computers&Accessories|Accessories&Peripherals|...             ₹709   \n",
       "\n",
       "    actual_price discount_percentage rating rating_count  \\\n",
       "44          ₹199                 70%    4.0        9,378   \n",
       "315         ₹600                 59%    4.2          143   \n",
       "191       ₹1,999                 65%    4.1     1,78,817   \n",
       "\n",
       "                                         about_product  \\\n",
       "44   Micro USB charging cable for android phones an...   \n",
       "315  The cover is resistant to dust particles. This...   \n",
       "191  MFi-certified charging cable for securely char...   \n",
       "\n",
       "                                               user_id  \\\n",
       "44   AHIKJUDTVJ4T6DV6IUGFYZ5LXMPA,AE55KTFVNXYFD5FPY...   \n",
       "315  AHNCUNHIZXTMX6V4WVDHJVC6YOHQ,AFQC7LKYCPLAO2WCV...   \n",
       "191  AHDZE7UM6PQPAOJPJJ57QUHGGTAA,AGMGMQ6LB27Y52XFB...   \n",
       "\n",
       "                                             user_name  \\\n",
       "44   $@|\\|TO$|-|,Sethu madhav,Akash Thakur,Burger P...   \n",
       "315  Hemal Jani,NITIN BHATTI,madhu,Arnab Kar,Daniel...   \n",
       "191  Pete25,Bhanu,Naveen Kr Singh,kavan,BG,Aditya B...   \n",
       "\n",
       "                                             review_id  \\\n",
       "44   R3F4T5TRYPTMIG,R3DQIEC603E7AY,R1O4Z15FD40PV5,R...   \n",
       "315  R3JYRL1ACWZKKY,R32Q6QP914FG3A,R3IEH4PJW488UX,R...   \n",
       "191  R35VPRJY5B5Z2G,R2YMIH3T7VWAY1,R3UEQM867K8BUH,R...   \n",
       "\n",
       "                                          review_title  \\\n",
       "44   Worked on iPhone 7 and didn’t work on XR,Good ...   \n",
       "315  Cover is perfect size wise and it's exactly sa...   \n",
       "191  Data transfer not the best,Good cable for ipho...   \n",
       "\n",
       "                                        review_content  \\\n",
       "44   Worked on iPhone 7 and didn’t work on iPhone X...   \n",
       "315  Cover is perfect size wise and it's exactly sa...   \n",
       "191  Does not always accurately read on PC,Working ...   \n",
       "\n",
       "                                              img_link  \\\n",
       "44   https://m.media-amazon.com/images/I/31v7NnnAIt...   \n",
       "315  https://m.media-amazon.com/images/W/WEBP_40237...   \n",
       "191  https://m.media-amazon.com/images/W/WEBP_40237...   \n",
       "\n",
       "                                          product_link  \n",
       "44   https://www.amazon.in/FLiX-Charging-480Mbps-De...  \n",
       "315  https://www.amazon.in/Shopoflux-Silicone-Remot...  \n",
       "191  https://www.amazon.in/AmazonBasics-Certified-L...  "
      ]
     },
     "execution_count": 1,
     "metadata": {},
     "output_type": "execute_result"
    }
   ],
   "source": [
    "import pandas as pd\n",
    "\n",
    "data = pd.read_csv('amazon.csv')\n",
    "\n",
    "data.sample(3)"
   ]
  },
  {
   "cell_type": "markdown",
   "id": "4e100ce3-c37d-4c67-be0b-154ffb806bdc",
   "metadata": {},
   "source": [
    "# Q) 1. How do discounts impact sales performance?\n",
    "\n",
    "A) I should Analyze the relationship between discount percentages and sales performance."
   ]
  },
  {
   "cell_type": "markdown",
   "id": "ae7e8575-2cfc-43c2-b4b6-b33cf3aa9c4f",
   "metadata": {},
   "source": [
    "## Understand the Dataset\n",
    "dataset contains the following relevant columns:\n",
    "- `discount_percentage:` The percentage discount offered on the product.\n",
    "- `rating_count:` The number of ratings, which can be used as a proxy for sales volume (assuming more sales lead to more ratings).\n",
    "- `rating:` The average rating of the product, which can indicate customer satisfaction.\n",
    "- `discounted_price` and `actual_price:` Used to calculate the discount percentage if not already provided."
   ]
  },
  {
   "cell_type": "code",
   "execution_count": 2,
   "id": "f246012f-ac6c-42ff-bfb8-05fea67aef0f",
   "metadata": {},
   "outputs": [
    {
     "name": "stdout",
     "output_type": "stream",
     "text": [
      "<class 'pandas.core.frame.DataFrame'>\n",
      "RangeIndex: 1465 entries, 0 to 1464\n",
      "Data columns (total 16 columns):\n",
      " #   Column               Non-Null Count  Dtype \n",
      "---  ------               --------------  ----- \n",
      " 0   product_id           1465 non-null   object\n",
      " 1   product_name         1465 non-null   object\n",
      " 2   category             1465 non-null   object\n",
      " 3   discounted_price     1465 non-null   object\n",
      " 4   actual_price         1465 non-null   object\n",
      " 5   discount_percentage  1465 non-null   object\n",
      " 6   rating               1465 non-null   object\n",
      " 7   rating_count         1463 non-null   object\n",
      " 8   about_product        1465 non-null   object\n",
      " 9   user_id              1465 non-null   object\n",
      " 10  user_name            1465 non-null   object\n",
      " 11  review_id            1465 non-null   object\n",
      " 12  review_title         1465 non-null   object\n",
      " 13  review_content       1465 non-null   object\n",
      " 14  img_link             1465 non-null   object\n",
      " 15  product_link         1465 non-null   object\n",
      "dtypes: object(16)\n",
      "memory usage: 183.3+ KB\n"
     ]
    }
   ],
   "source": [
    "data.info()"
   ]
  },
  {
   "cell_type": "code",
   "execution_count": 3,
   "id": "c57fbb48-7c0c-4345-a624-e92641226848",
   "metadata": {},
   "outputs": [
    {
     "data": {
      "text/html": [
       "<div>\n",
       "<style scoped>\n",
       "    .dataframe tbody tr th:only-of-type {\n",
       "        vertical-align: middle;\n",
       "    }\n",
       "\n",
       "    .dataframe tbody tr th {\n",
       "        vertical-align: top;\n",
       "    }\n",
       "\n",
       "    .dataframe thead th {\n",
       "        text-align: right;\n",
       "    }\n",
       "</style>\n",
       "<table border=\"1\" class=\"dataframe\">\n",
       "  <thead>\n",
       "    <tr style=\"text-align: right;\">\n",
       "      <th></th>\n",
       "      <th>product_id</th>\n",
       "      <th>product_name</th>\n",
       "      <th>category</th>\n",
       "      <th>discounted_price</th>\n",
       "      <th>actual_price</th>\n",
       "      <th>discount_percentage</th>\n",
       "      <th>rating</th>\n",
       "      <th>rating_count</th>\n",
       "      <th>about_product</th>\n",
       "      <th>user_id</th>\n",
       "      <th>user_name</th>\n",
       "      <th>review_id</th>\n",
       "      <th>review_title</th>\n",
       "      <th>review_content</th>\n",
       "      <th>img_link</th>\n",
       "      <th>product_link</th>\n",
       "    </tr>\n",
       "  </thead>\n",
       "  <tbody>\n",
       "    <tr>\n",
       "      <th>1142</th>\n",
       "      <td>B09MTLG4TP</td>\n",
       "      <td>SAIELLIN Electric Lint Remover for Clothes Fab...</td>\n",
       "      <td>Home&amp;Kitchen|Kitchen&amp;HomeAppliances|Vacuum,Cle...</td>\n",
       "      <td>₹453</td>\n",
       "      <td>₹999</td>\n",
       "      <td>55%</td>\n",
       "      <td>4.3</td>\n",
       "      <td>610</td>\n",
       "      <td>Lint Remover for Clothes and bubble remover fo...</td>\n",
       "      <td>AFHCG4ZUNHS5X7PYX6IPZA3AO7PA,AHDH4K7B4XROK4NUU...</td>\n",
       "      <td>Shiv Kumar Saini,Amazon Customer,Tarun,Harish ...</td>\n",
       "      <td>R2CZP30I91CUT0,RXZL00UV67477,R6ZMVE3VFMOTC,R2I...</td>\n",
       "      <td>Good one,It’s effective,Amazing product for li...</td>\n",
       "      <td>Lead should be strong,,I had a fantastic first...</td>\n",
       "      <td>https://m.media-amazon.com/images/I/41J7JQ+P7W...</td>\n",
       "      <td>https://www.amazon.in/SAIELLIN-Clothes-Sweater...</td>\n",
       "    </tr>\n",
       "    <tr>\n",
       "      <th>802</th>\n",
       "      <td>B00NH11PEY</td>\n",
       "      <td>AmazonBasics USB 2.0 - A-Male to A-Female Exte...</td>\n",
       "      <td>Computers&amp;Accessories|Accessories&amp;Peripherals|...</td>\n",
       "      <td>₹199</td>\n",
       "      <td>₹750</td>\n",
       "      <td>73%</td>\n",
       "      <td>4.5</td>\n",
       "      <td>74,976</td>\n",
       "      <td>One 9.8-foot-long (3 meters) USB 2.0 A-Male to...</td>\n",
       "      <td>AGBX233C7B7D7YZEL7ZLFWMQKFDQ,AFKSU4D3IE4KNDBVV...</td>\n",
       "      <td>Pravin Kumar,Maestrov,rag,Mukundha2good,Amazon...</td>\n",
       "      <td>R1C8MVU3EIX56Y,R10RUXC7JD5S4I,R1AFBZ5PYTHO1Z,R...</td>\n",
       "      <td>Nice,good,Paisa vassol,Sturdy and long.,Good f...</td>\n",
       "      <td>Sufficient length,excellent build quality ,goo...</td>\n",
       "      <td>https://m.media-amazon.com/images/W/WEBP_40237...</td>\n",
       "      <td>https://www.amazon.in/AmazonBasics-Extension-C...</td>\n",
       "    </tr>\n",
       "    <tr>\n",
       "      <th>1240</th>\n",
       "      <td>B071R3LHFM</td>\n",
       "      <td>Wonderchef Nutri-blend Mixer, Grinder &amp; Blende...</td>\n",
       "      <td>Home&amp;Kitchen|Kitchen&amp;HomeAppliances|SmallKitch...</td>\n",
       "      <td>₹2,899</td>\n",
       "      <td>₹5,500</td>\n",
       "      <td>47%</td>\n",
       "      <td>3.8</td>\n",
       "      <td>8,958</td>\n",
       "      <td>Performance with Style:India's favourite Mixer...</td>\n",
       "      <td>AE5CXOIK2XJRKPRSKOXHICJHG3UQ,AEMURPMQFSRYZ5R7I...</td>\n",
       "      <td>Rachna,KAILASH MANDAL,Jasmeen Syan,Amazon Cust...</td>\n",
       "      <td>R3INNJUH4JO9LK,R15QDC1Z7MA197,R1XO3PU241VKRL,R...</td>\n",
       "      <td>Handy and consumes so less space unlike other ...</td>\n",
       "      <td>Smoothies and dry grinding.Consumes less space...</td>\n",
       "      <td>https://m.media-amazon.com/images/I/51i84+E-Lg...</td>\n",
       "      <td>https://www.amazon.in/Wonderchef-Nutri-Blend-6...</td>\n",
       "    </tr>\n",
       "    <tr>\n",
       "      <th>126</th>\n",
       "      <td>B01D5H8ZI8</td>\n",
       "      <td>AmazonBasics 3 Feet High Speed HDMI Male to Fe...</td>\n",
       "      <td>Electronics|HomeTheater,TV&amp;Video|Accessories|C...</td>\n",
       "      <td>₹229</td>\n",
       "      <td>₹595</td>\n",
       "      <td>62%</td>\n",
       "      <td>4.3</td>\n",
       "      <td>12,835</td>\n",
       "      <td>Supports full 1080p HD viewing with digital tr...</td>\n",
       "      <td>AFJXTHVSM4WSXPKINO6S6L4OI5CA,AFCTBE5IW6HOJ2ENF...</td>\n",
       "      <td>Amazon Customer,Jagmeet singh,Anil Sethi,Dev s...</td>\n",
       "      <td>R9PTPIYPJWRIL,R8LD3TIJ6NJ6U,R1T72BEQOOS87D,R1W...</td>\n",
       "      <td>Good product,Hdmi cable,Nice,Do buy without an...</td>\n",
       "      <td>Seems OK. Have not tried it with HD quality vi...</td>\n",
       "      <td>https://m.media-amazon.com/images/I/41Rg-JkRGg...</td>\n",
       "      <td>https://www.amazon.in/AmazonBasics-Speed-Femal...</td>\n",
       "    </tr>\n",
       "  </tbody>\n",
       "</table>\n",
       "</div>"
      ],
      "text/plain": [
       "      product_id                                       product_name  \\\n",
       "1142  B09MTLG4TP  SAIELLIN Electric Lint Remover for Clothes Fab...   \n",
       "802   B00NH11PEY  AmazonBasics USB 2.0 - A-Male to A-Female Exte...   \n",
       "1240  B071R3LHFM  Wonderchef Nutri-blend Mixer, Grinder & Blende...   \n",
       "126   B01D5H8ZI8  AmazonBasics 3 Feet High Speed HDMI Male to Fe...   \n",
       "\n",
       "                                               category discounted_price  \\\n",
       "1142  Home&Kitchen|Kitchen&HomeAppliances|Vacuum,Cle...             ₹453   \n",
       "802   Computers&Accessories|Accessories&Peripherals|...             ₹199   \n",
       "1240  Home&Kitchen|Kitchen&HomeAppliances|SmallKitch...           ₹2,899   \n",
       "126   Electronics|HomeTheater,TV&Video|Accessories|C...             ₹229   \n",
       "\n",
       "     actual_price discount_percentage rating rating_count  \\\n",
       "1142         ₹999                 55%    4.3          610   \n",
       "802          ₹750                 73%    4.5       74,976   \n",
       "1240       ₹5,500                 47%    3.8        8,958   \n",
       "126          ₹595                 62%    4.3       12,835   \n",
       "\n",
       "                                          about_product  \\\n",
       "1142  Lint Remover for Clothes and bubble remover fo...   \n",
       "802   One 9.8-foot-long (3 meters) USB 2.0 A-Male to...   \n",
       "1240  Performance with Style:India's favourite Mixer...   \n",
       "126   Supports full 1080p HD viewing with digital tr...   \n",
       "\n",
       "                                                user_id  \\\n",
       "1142  AFHCG4ZUNHS5X7PYX6IPZA3AO7PA,AHDH4K7B4XROK4NUU...   \n",
       "802   AGBX233C7B7D7YZEL7ZLFWMQKFDQ,AFKSU4D3IE4KNDBVV...   \n",
       "1240  AE5CXOIK2XJRKPRSKOXHICJHG3UQ,AEMURPMQFSRYZ5R7I...   \n",
       "126   AFJXTHVSM4WSXPKINO6S6L4OI5CA,AFCTBE5IW6HOJ2ENF...   \n",
       "\n",
       "                                              user_name  \\\n",
       "1142  Shiv Kumar Saini,Amazon Customer,Tarun,Harish ...   \n",
       "802   Pravin Kumar,Maestrov,rag,Mukundha2good,Amazon...   \n",
       "1240  Rachna,KAILASH MANDAL,Jasmeen Syan,Amazon Cust...   \n",
       "126   Amazon Customer,Jagmeet singh,Anil Sethi,Dev s...   \n",
       "\n",
       "                                              review_id  \\\n",
       "1142  R2CZP30I91CUT0,RXZL00UV67477,R6ZMVE3VFMOTC,R2I...   \n",
       "802   R1C8MVU3EIX56Y,R10RUXC7JD5S4I,R1AFBZ5PYTHO1Z,R...   \n",
       "1240  R3INNJUH4JO9LK,R15QDC1Z7MA197,R1XO3PU241VKRL,R...   \n",
       "126   R9PTPIYPJWRIL,R8LD3TIJ6NJ6U,R1T72BEQOOS87D,R1W...   \n",
       "\n",
       "                                           review_title  \\\n",
       "1142  Good one,It’s effective,Amazing product for li...   \n",
       "802   Nice,good,Paisa vassol,Sturdy and long.,Good f...   \n",
       "1240  Handy and consumes so less space unlike other ...   \n",
       "126   Good product,Hdmi cable,Nice,Do buy without an...   \n",
       "\n",
       "                                         review_content  \\\n",
       "1142  Lead should be strong,,I had a fantastic first...   \n",
       "802   Sufficient length,excellent build quality ,goo...   \n",
       "1240  Smoothies and dry grinding.Consumes less space...   \n",
       "126   Seems OK. Have not tried it with HD quality vi...   \n",
       "\n",
       "                                               img_link  \\\n",
       "1142  https://m.media-amazon.com/images/I/41J7JQ+P7W...   \n",
       "802   https://m.media-amazon.com/images/W/WEBP_40237...   \n",
       "1240  https://m.media-amazon.com/images/I/51i84+E-Lg...   \n",
       "126   https://m.media-amazon.com/images/I/41Rg-JkRGg...   \n",
       "\n",
       "                                           product_link  \n",
       "1142  https://www.amazon.in/SAIELLIN-Clothes-Sweater...  \n",
       "802   https://www.amazon.in/AmazonBasics-Extension-C...  \n",
       "1240  https://www.amazon.in/Wonderchef-Nutri-Blend-6...  \n",
       "126   https://www.amazon.in/AmazonBasics-Speed-Femal...  "
      ]
     },
     "execution_count": 3,
     "metadata": {},
     "output_type": "execute_result"
    }
   ],
   "source": [
    "data.sample(4)"
   ]
  },
  {
   "cell_type": "markdown",
   "id": "0c9338d3-4780-4053-94a6-74784ff43b39",
   "metadata": {},
   "source": [
    "## Data Cleaning and Preprocessing"
   ]
  },
  {
   "cell_type": "markdown",
   "id": "743b3e72-0358-4f9a-b38a-d9ea1a8bcf9a",
   "metadata": {},
   "source": [
    "### Check for Missing Values"
   ]
  },
  {
   "cell_type": "code",
   "execution_count": 4,
   "id": "cc916598-22e9-463b-846a-98093c6c0ef4",
   "metadata": {},
   "outputs": [],
   "source": [
    "# Key Columns 'discount_percentage', 'rating_count' and 'rating'\n",
    "data.dropna(subset=['discount_percentage', 'rating_count', 'rating'], inplace=True)"
   ]
  },
  {
   "cell_type": "markdown",
   "id": "dc7e2d2b-a7a1-484e-a56c-4871ad3ded3f",
   "metadata": {},
   "source": [
    "### Clean the discount_percentage Column"
   ]
  },
  {
   "cell_type": "code",
   "execution_count": 11,
   "id": "67e4e86b-d27a-4376-a85d-bf33cb0457d2",
   "metadata": {},
   "outputs": [
    {
     "name": "stdout",
     "output_type": "stream",
     "text": [
      "[64. 43. 90. 53. 61. 85. 65. 23. 50. 33. 55. 63. 69. 60. 13. 44. 38. 39.\n",
      " 46. 41. 70. 42. 72. 25. 51. 73.  0. 80. 28. 67. 58. 35. 45. 62. 54. 27.\n",
      " 77. 56. 78. 31. 86. 47. 37. 75. 32. 68. 66. 22. 57. 17. 52. 88. 20. 59.\n",
      " 40. 26. 29. 83. 71. 15. 76. 48. 82. 36. 89. 87. 24. 34. 11. 91.  7. 19.\n",
      " 79. 21. 81. 18. 49. 30. 84. 10.  6. 14. 74.  4.  5. 16.  8.  2. 94. 12.\n",
      "  3.  9.]\n"
     ]
    }
   ],
   "source": [
    "# remove the % sign and convert the column to numeric\n",
    "# Convert discount_percentage column to string first as it is object\n",
    "data['discount_percentage'] = data['discount_percentage'].astype(str).str.rstrip('%')\n",
    "# Convert it again to float\n",
    "data['discount_percentage'] = data['discount_percentage'].astype(float)\n",
    "unique_values = data['discount_percentage'].unique()\n",
    "print(unique_values)"
   ]
  },
  {
   "cell_type": "markdown",
   "id": "16e89b89-8fa2-4d8a-a416-e3c3cd3d6577",
   "metadata": {},
   "source": [
    "### Clean the rating_count Column\n"
   ]
  },
  {
   "cell_type": "code",
   "execution_count": 8,
   "id": "1f9a574a-27f6-4ead-8f20-6c178e5620e6",
   "metadata": {},
   "outputs": [],
   "source": [
    "# as there is some items with commas (35,693) I haveto remove the commas and convert it to numeric\n",
    "data['rating_count'] = data['rating_count'].astype(str)\n",
    "data['rating_count'] = data['rating_count'].str.replace(',', '').astype(int)"
   ]
  },
  {
   "cell_type": "markdown",
   "id": "655cde7e-2518-4526-919b-cb12d43dc212",
   "metadata": {},
   "source": [
    "### Clean the rating Column"
   ]
  },
  {
   "cell_type": "code",
   "execution_count": 9,
   "id": "0e023a83-fabc-4150-b4c0-38105ade1cab",
   "metadata": {},
   "outputs": [
    {
     "name": "stdout",
     "output_type": "stream",
     "text": [
      "['4.2' '4.0' '3.9' '4.1' '4.3' '4.4' '4.5' '3.7' '3.3' '3.6' '3.4' '3.8'\n",
      " '3.5' '4.6' '3.2' '5.0' '4.7' '3.0' '2.8' '4' '3.1' '4.8' '2.3' '|' '2'\n",
      " '3' '2.6' '2.9']\n"
     ]
    }
   ],
   "source": [
    "# Convert the raing column to numeric\n",
    "unique_values = data['rating'].unique()\n",
    "print(unique_values)"
   ]
  },
  {
   "cell_type": "code",
   "execution_count": 10,
   "id": "f958ba6c-4ab3-48a4-b197-eeebb5f4b58b",
   "metadata": {},
   "outputs": [
    {
     "name": "stdout",
     "output_type": "stream",
     "text": [
      "[4.2 4.  3.9 4.1 4.3 4.4 4.5 3.7 3.3 3.6 3.4 3.8 3.5 4.6 3.2 5.  4.7 3.\n",
      " 2.8 3.1 4.8 2.3 nan 2.  2.6 2.9]\n"
     ]
    }
   ],
   "source": [
    "data['rating'] = pd.to_numeric(data['rating'], errors='coerce')\n",
    "unique_values = data['rating'].unique()\n",
    "print(unique_values)"
   ]
  },
  {
   "cell_type": "markdown",
   "id": "98dbd9f5-b958-410d-b9f6-6f29c03ab0fc",
   "metadata": {},
   "source": [
    "### Check for Duplicates"
   ]
  },
  {
   "cell_type": "code",
   "execution_count": 12,
   "id": "e28898b7-04d9-40ee-9f25-264f6eed624e",
   "metadata": {},
   "outputs": [
    {
     "name": "stdout",
     "output_type": "stream",
     "text": [
      "0 duplicate rows were removed.\n"
     ]
    }
   ],
   "source": [
    "rows = data.shape[0]\n",
    "data.drop_duplicates(inplace=True)\n",
    "rows2 = data.shape[0]\n",
    "duplicate_removes = rows - rows2\n",
    "print(f\"{duplicate_removes} duplicate rows were removed.\")"
   ]
  },
  {
   "cell_type": "markdown",
   "id": "6104a182-ca55-4b55-9a4a-1f6e2a451c8a",
   "metadata": {},
   "source": [
    "### Saved the cleaned Data"
   ]
  },
  {
   "cell_type": "code",
   "execution_count": 13,
   "id": "520d5d41-4e17-43b4-8ef3-436363d2c182",
   "metadata": {},
   "outputs": [],
   "source": [
    "data.to_csv('cleaned_amazon_data.csv', index=False)"
   ]
  },
  {
   "cell_type": "code",
   "execution_count": null,
   "id": "ab620d8f-dac1-4847-bf09-6fb431a36c5e",
   "metadata": {},
   "outputs": [],
   "source": []
  }
 ],
 "metadata": {
  "kernelspec": {
   "display_name": "Python 3 (ipykernel)",
   "language": "python",
   "name": "python3"
  },
  "language_info": {
   "codemirror_mode": {
    "name": "ipython",
    "version": 3
   },
   "file_extension": ".py",
   "mimetype": "text/x-python",
   "name": "python",
   "nbconvert_exporter": "python",
   "pygments_lexer": "ipython3",
   "version": "3.13.1"
  }
 },
 "nbformat": 4,
 "nbformat_minor": 5
}
